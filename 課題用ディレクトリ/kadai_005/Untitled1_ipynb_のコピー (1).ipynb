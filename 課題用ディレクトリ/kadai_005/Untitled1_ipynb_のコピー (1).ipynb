{
  "nbformat": 4,
  "nbformat_minor": 0,
  "metadata": {
    "colab": {
      "provenance": []
    },
    "kernelspec": {
      "name": "python3",
      "display_name": "Python 3"
    },
    "language_info": {
      "name": "python"
    }
  },
  "cells": [
    {
      "cell_type": "code",
      "source": [
        "#上辺と下辺、高さを代入\n",
        "up=10\n",
        "down=20\n",
        "high=5\n",
        "\n",
        "\n",
        "#公式：台形の面積は（上辺+下辺）×高さ÷2を代入\n",
        "formula=(up+down)*high/2\n",
        "\n",
        "#台形の面積の答え\n",
        "print(str(formula)+'cm²')"
      ],
      "metadata": {
        "colab": {
          "base_uri": "https://localhost:8080/"
        },
        "id": "Tz4zjeqRrLNo",
        "outputId": "29b77ab3-9bd1-4f67-f861-3423bbb92426"
      },
      "execution_count": null,
      "outputs": [
        {
          "output_type": "stream",
          "name": "stdout",
          "text": [
            "75.0cm²\n"
          ]
        }
      ]
    },
    {
      "cell_type": "code",
      "source": [],
      "metadata": {
        "id": "I47qSpnkwYqQ"
      },
      "execution_count": null,
      "outputs": []
    }
  ]
}